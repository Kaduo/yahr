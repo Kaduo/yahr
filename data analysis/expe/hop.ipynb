{
 "cells": [
  {
   "cell_type": "code",
   "execution_count": 3,
   "id": "a668be52",
   "metadata": {},
   "outputs": [
    {
     "data": {
      "text/html": [
       "<div><style>\n",
       ".dataframe > thead > tr,\n",
       ".dataframe > tbody > tr {\n",
       "  text-align: right;\n",
       "  white-space: pre-wrap;\n",
       "}\n",
       "</style>\n",
       "<small>shape: (22_356, 13)</small><table border=\"1\" class=\"dataframe\"><thead><tr><th>Timestamp (ms)</th><th>Left Eye Center X</th><th>Left Eye Center Y</th><th>Right Eye Center X</th><th>Right Eye Center Y</th><th>Left Iris Relative Pos Dx</th><th>Left Iris Relative Pos Dy</th><th>Right Iris Relative Pos Dx</th><th>Right Iris Relative Pos Dy</th><th>Total Blink Count</th><th>Pitch</th><th>Yaw</th><th>Roll</th></tr><tr><td>i64</td><td>f64</td><td>f64</td><td>f64</td><td>f64</td><td>i64</td><td>i64</td><td>i64</td><td>i64</td><td>i64</td><td>f64</td><td>f64</td><td>f64</td></tr></thead><tbody><tr><td>1744709701328</td><td>311.5</td><td>272.5</td><td>255.5</td><td>267.0</td><td>66</td><td>5</td><td>-44</td><td>-5</td><td>0</td><td>0.0</td><td>0.0</td><td>0.0</td></tr><tr><td>1744709701328</td><td>311.5</td><td>272.5</td><td>255.5</td><td>267.0</td><td>66</td><td>5</td><td>-44</td><td>-5</td><td>0</td><td>0.0</td><td>0.0</td><td>0.0</td></tr><tr><td>1744709701369</td><td>310.5</td><td>271.0</td><td>254.5</td><td>266.0</td><td>66</td><td>6</td><td>-44</td><td>-6</td><td>0</td><td>-1.041013</td><td>0.203285</td><td>0.266226</td></tr><tr><td>1744709701369</td><td>310.5</td><td>271.0</td><td>254.5</td><td>266.0</td><td>66</td><td>6</td><td>-44</td><td>-6</td><td>0</td><td>-1.041013</td><td>0.203285</td><td>0.266226</td></tr><tr><td>1744709701382</td><td>310.0</td><td>270.5</td><td>254.0</td><td>265.5</td><td>67</td><td>6</td><td>-43</td><td>-8</td><td>0</td><td>-1.685555</td><td>0.352564</td><td>0.459007</td></tr><tr><td>&hellip;</td><td>&hellip;</td><td>&hellip;</td><td>&hellip;</td><td>&hellip;</td><td>&hellip;</td><td>&hellip;</td><td>&hellip;</td><td>&hellip;</td><td>&hellip;</td><td>&hellip;</td><td>&hellip;</td><td>&hellip;</td></tr><tr><td>1744716760587</td><td>67.0</td><td>164.5</td><td>-11.5</td><td>181.5</td><td>87</td><td>-21</td><td>-59</td><td>11</td><td>125</td><td>-26.507817</td><td>-20.837333</td><td>19.607001</td></tr><tr><td>1744716760630</td><td>64.5</td><td>164.5</td><td>-11.0</td><td>180.5</td><td>81</td><td>-23</td><td>-58</td><td>9</td><td>125</td><td>-23.668228</td><td>-15.847274</td><td>36.831177</td></tr><tr><td>1744716760630</td><td>64.5</td><td>164.5</td><td>-11.0</td><td>180.5</td><td>81</td><td>-23</td><td>-58</td><td>9</td><td>125</td><td>-23.668228</td><td>-15.847274</td><td>36.831177</td></tr><tr><td>1744716760652</td><td>65.0</td><td>164.5</td><td>-14.5</td><td>178.0</td><td>90</td><td>-23</td><td>-60</td><td>6</td><td>125</td><td>-23.37611</td><td>-15.229982</td><td>36.694484</td></tr><tr><td>1744716760652</td><td>65.0</td><td>164.5</td><td>-14.5</td><td>178.0</td><td>90</td><td>-23</td><td>-60</td><td>6</td><td>125</td><td>-23.37611</td><td>-15.229982</td><td>36.694484</td></tr></tbody></table></div>"
      ],
      "text/plain": [
       "shape: (22_356, 13)\n",
       "┌────────────┬────────────┬────────────┬───────────┬───┬───────┬───────────┬───────────┬───────────┐\n",
       "│ Timestamp  ┆ Left Eye   ┆ Left Eye   ┆ Right Eye ┆ … ┆ Total ┆ Pitch     ┆ Yaw       ┆ Roll      │\n",
       "│ (ms)       ┆ Center X   ┆ Center Y   ┆ Center X  ┆   ┆ Blink ┆ ---       ┆ ---       ┆ ---       │\n",
       "│ ---        ┆ ---        ┆ ---        ┆ ---       ┆   ┆ Count ┆ f64       ┆ f64       ┆ f64       │\n",
       "│ i64        ┆ f64        ┆ f64        ┆ f64       ┆   ┆ ---   ┆           ┆           ┆           │\n",
       "│            ┆            ┆            ┆           ┆   ┆ i64   ┆           ┆           ┆           │\n",
       "╞════════════╪════════════╪════════════╪═══════════╪═══╪═══════╪═══════════╪═══════════╪═══════════╡\n",
       "│ 1744709701 ┆ 311.5      ┆ 272.5      ┆ 255.5     ┆ … ┆ 0     ┆ 0.0       ┆ 0.0       ┆ 0.0       │\n",
       "│ 328        ┆            ┆            ┆           ┆   ┆       ┆           ┆           ┆           │\n",
       "│ 1744709701 ┆ 311.5      ┆ 272.5      ┆ 255.5     ┆ … ┆ 0     ┆ 0.0       ┆ 0.0       ┆ 0.0       │\n",
       "│ 328        ┆            ┆            ┆           ┆   ┆       ┆           ┆           ┆           │\n",
       "│ 1744709701 ┆ 310.5      ┆ 271.0      ┆ 254.5     ┆ … ┆ 0     ┆ -1.041013 ┆ 0.203285  ┆ 0.266226  │\n",
       "│ 369        ┆            ┆            ┆           ┆   ┆       ┆           ┆           ┆           │\n",
       "│ 1744709701 ┆ 310.5      ┆ 271.0      ┆ 254.5     ┆ … ┆ 0     ┆ -1.041013 ┆ 0.203285  ┆ 0.266226  │\n",
       "│ 369        ┆            ┆            ┆           ┆   ┆       ┆           ┆           ┆           │\n",
       "│ 1744709701 ┆ 310.0      ┆ 270.5      ┆ 254.0     ┆ … ┆ 0     ┆ -1.685555 ┆ 0.352564  ┆ 0.459007  │\n",
       "│ 382        ┆            ┆            ┆           ┆   ┆       ┆           ┆           ┆           │\n",
       "│ …          ┆ …          ┆ …          ┆ …         ┆ … ┆ …     ┆ …         ┆ …         ┆ …         │\n",
       "│ 1744716760 ┆ 67.0       ┆ 164.5      ┆ -11.5     ┆ … ┆ 125   ┆ -26.50781 ┆ -20.83733 ┆ 19.607001 │\n",
       "│ 587        ┆            ┆            ┆           ┆   ┆       ┆ 7         ┆ 3         ┆           │\n",
       "│ 1744716760 ┆ 64.5       ┆ 164.5      ┆ -11.0     ┆ … ┆ 125   ┆ -23.66822 ┆ -15.84727 ┆ 36.831177 │\n",
       "│ 630        ┆            ┆            ┆           ┆   ┆       ┆ 8         ┆ 4         ┆           │\n",
       "│ 1744716760 ┆ 64.5       ┆ 164.5      ┆ -11.0     ┆ … ┆ 125   ┆ -23.66822 ┆ -15.84727 ┆ 36.831177 │\n",
       "│ 630        ┆            ┆            ┆           ┆   ┆       ┆ 8         ┆ 4         ┆           │\n",
       "│ 1744716760 ┆ 65.0       ┆ 164.5      ┆ -14.5     ┆ … ┆ 125   ┆ -23.37611 ┆ -15.22998 ┆ 36.694484 │\n",
       "│ 652        ┆            ┆            ┆           ┆   ┆       ┆           ┆ 2         ┆           │\n",
       "│ 1744716760 ┆ 65.0       ┆ 164.5      ┆ -14.5     ┆ … ┆ 125   ┆ -23.37611 ┆ -15.22998 ┆ 36.694484 │\n",
       "│ 652        ┆            ┆            ┆           ┆   ┆       ┆           ┆ 2         ┆           │\n",
       "└────────────┴────────────┴────────────┴───────────┴───┴───────┴───────────┴───────────┴───────────┘"
      ]
     },
     "execution_count": 3,
     "metadata": {},
     "output_type": "execute_result"
    }
   ],
   "source": [
    "import polars as pl\n",
    "\n",
    "eye_tracking = pl.read_csv(\"../../data/experiment/results/emma/emma.csv\")\n",
    "eye_tracking"
   ]
  },
  {
   "cell_type": "code",
   "execution_count": 10,
   "id": "0a6bd293",
   "metadata": {},
   "outputs": [
    {
     "data": {
      "text/html": [
       "<div><style>\n",
       ".dataframe > thead > tr,\n",
       ".dataframe > tbody > tr {\n",
       "  text-align: right;\n",
       "  white-space: pre-wrap;\n",
       "}\n",
       "</style>\n",
       "<small>shape: (2, 13)</small><table border=\"1\" class=\"dataframe\"><thead><tr><th>Timestamp (ms)</th><th>Left Eye Center X</th><th>Left Eye Center Y</th><th>Right Eye Center X</th><th>Right Eye Center Y</th><th>Left Iris Relative Pos Dx</th><th>Left Iris Relative Pos Dy</th><th>Right Iris Relative Pos Dx</th><th>Right Iris Relative Pos Dy</th><th>Total Blink Count</th><th>Pitch</th><th>Yaw</th><th>Roll</th></tr><tr><td>i64</td><td>f64</td><td>f64</td><td>f64</td><td>f64</td><td>i64</td><td>i64</td><td>i64</td><td>i64</td><td>i64</td><td>f64</td><td>f64</td><td>f64</td></tr></thead><tbody><tr><td>1744709701328</td><td>311.5</td><td>272.5</td><td>255.5</td><td>267.0</td><td>66</td><td>5</td><td>-44</td><td>-5</td><td>0</td><td>0.0</td><td>0.0</td><td>0.0</td></tr><tr><td>1744709701328</td><td>311.5</td><td>272.5</td><td>255.5</td><td>267.0</td><td>66</td><td>5</td><td>-44</td><td>-5</td><td>0</td><td>0.0</td><td>0.0</td><td>0.0</td></tr></tbody></table></div>"
      ],
      "text/plain": [
       "shape: (2, 13)\n",
       "┌────────────────┬──────────┬──────────┬───────────┬───┬───────────────────┬───────┬─────┬──────┐\n",
       "│ Timestamp (ms) ┆ Left Eye ┆ Left Eye ┆ Right Eye ┆ … ┆ Total Blink Count ┆ Pitch ┆ Yaw ┆ Roll │\n",
       "│ ---            ┆ Center X ┆ Center Y ┆ Center X  ┆   ┆ ---               ┆ ---   ┆ --- ┆ ---  │\n",
       "│ i64            ┆ ---      ┆ ---      ┆ ---       ┆   ┆ i64               ┆ f64   ┆ f64 ┆ f64  │\n",
       "│                ┆ f64      ┆ f64      ┆ f64       ┆   ┆                   ┆       ┆     ┆      │\n",
       "╞════════════════╪══════════╪══════════╪═══════════╪═══╪═══════════════════╪═══════╪═════╪══════╡\n",
       "│ 1744709701328  ┆ 311.5    ┆ 272.5    ┆ 255.5     ┆ … ┆ 0                 ┆ 0.0   ┆ 0.0 ┆ 0.0  │\n",
       "│ 1744709701328  ┆ 311.5    ┆ 272.5    ┆ 255.5     ┆ … ┆ 0                 ┆ 0.0   ┆ 0.0 ┆ 0.0  │\n",
       "└────────────────┴──────────┴──────────┴───────────┴───┴───────────────────┴───────┴─────┴──────┘"
      ]
     },
     "execution_count": 10,
     "metadata": {},
     "output_type": "execute_result"
    }
   ],
   "source": [
    "eye_tracking.filter(eye_tracking[\"Timestamp (ms)\"] < 1744709701369)"
   ]
  },
  {
   "cell_type": "code",
   "execution_count": 36,
   "id": "16555526",
   "metadata": {},
   "outputs": [
    {
     "data": {
      "text/plain": [
       "6813"
      ]
     },
     "execution_count": 36,
     "metadata": {},
     "output_type": "execute_result"
    }
   ],
   "source": [
    "((eye_tracking[\"Timestamp (ms)\"] - eye_tracking[\"Timestamp (ms)\"].shift(1))[1:-100].arg_max())"
   ]
  },
  {
   "cell_type": "code",
   "execution_count": 24,
   "id": "1860ab9b",
   "metadata": {},
   "outputs": [
    {
     "data": {
      "text/html": [
       "<div><style>\n",
       ".dataframe > thead > tr,\n",
       ".dataframe > tbody > tr {\n",
       "  text-align: right;\n",
       "  white-space: pre-wrap;\n",
       "}\n",
       "</style>\n",
       "<small>shape: (1, 13)</small><table border=\"1\" class=\"dataframe\"><thead><tr><th>Timestamp (ms)</th><th>Left Eye Center X</th><th>Left Eye Center Y</th><th>Right Eye Center X</th><th>Right Eye Center Y</th><th>Left Iris Relative Pos Dx</th><th>Left Iris Relative Pos Dy</th><th>Right Iris Relative Pos Dx</th><th>Right Iris Relative Pos Dy</th><th>Total Blink Count</th><th>Pitch</th><th>Yaw</th><th>Roll</th></tr><tr><td>i64</td><td>f64</td><td>f64</td><td>f64</td><td>f64</td><td>i64</td><td>i64</td><td>i64</td><td>i64</td><td>i64</td><td>f64</td><td>f64</td><td>f64</td></tr></thead><tbody><tr><td>1744710598575</td><td>224.5</td><td>258.5</td><td>188.5</td><td>253.0</td><td>32</td><td>3</td><td>-24</td><td>-9</td><td>125</td><td>-2.927661</td><td>39.303856</td><td>-166.033889</td></tr></tbody></table></div>"
      ],
      "text/plain": [
       "shape: (1, 13)\n",
       "┌────────────┬────────────┬────────────┬───────────┬───┬───────┬───────────┬───────────┬───────────┐\n",
       "│ Timestamp  ┆ Left Eye   ┆ Left Eye   ┆ Right Eye ┆ … ┆ Total ┆ Pitch     ┆ Yaw       ┆ Roll      │\n",
       "│ (ms)       ┆ Center X   ┆ Center Y   ┆ Center X  ┆   ┆ Blink ┆ ---       ┆ ---       ┆ ---       │\n",
       "│ ---        ┆ ---        ┆ ---        ┆ ---       ┆   ┆ Count ┆ f64       ┆ f64       ┆ f64       │\n",
       "│ i64        ┆ f64        ┆ f64        ┆ f64       ┆   ┆ ---   ┆           ┆           ┆           │\n",
       "│            ┆            ┆            ┆           ┆   ┆ i64   ┆           ┆           ┆           │\n",
       "╞════════════╪════════════╪════════════╪═══════════╪═══╪═══════╪═══════════╪═══════════╪═══════════╡\n",
       "│ 1744710598 ┆ 224.5      ┆ 258.5      ┆ 188.5     ┆ … ┆ 125   ┆ -2.927661 ┆ 39.303856 ┆ -166.0338 │\n",
       "│ 575        ┆            ┆            ┆           ┆   ┆       ┆           ┆           ┆ 89        │\n",
       "└────────────┴────────────┴────────────┴───────────┴───┴───────┴───────────┴───────────┴───────────┘"
      ]
     },
     "execution_count": 24,
     "metadata": {},
     "output_type": "execute_result"
    }
   ],
   "source": [
    "eye_tracking[22302]"
   ]
  }
 ],
 "metadata": {
  "kernelspec": {
   "display_name": ".venv",
   "language": "python",
   "name": "python3"
  },
  "language_info": {
   "codemirror_mode": {
    "name": "ipython",
    "version": 3
   },
   "file_extension": ".py",
   "mimetype": "text/x-python",
   "name": "python",
   "nbconvert_exporter": "python",
   "pygments_lexer": "ipython3",
   "version": "3.13.2"
  }
 },
 "nbformat": 4,
 "nbformat_minor": 5
}
